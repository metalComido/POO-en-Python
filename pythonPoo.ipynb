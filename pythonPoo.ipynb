{
 "cells": [
  {
   "cell_type": "code",
   "execution_count": 14,
   "metadata": {},
   "outputs": [
    {
     "name": "stdout",
     "output_type": "stream",
     "text": [
      "25 20\n",
      "\n",
      "15 10.0\n"
     ]
    }
   ],
   "source": [
    "#Abstraccion,Encapsulamiento,Herencia,Polimorfismo\r\n",
    "class Figura:\r\n",
    "    def Area(self):\r\n",
    "        pass\r\n",
    "    \r\n",
    "    def Perimetro(self):\r\n",
    "        pass\r\n",
    "        \r\n",
    "class Cuadrado(Figura):\r\n",
    "    def __init__(self,Lado,):\r\n",
    "        self.Lado = Lado\r\n",
    "        \r\n",
    "    def Area(self):\r\n",
    "        return self.Lado * self.Lado\r\n",
    "    \r\n",
    "    def Perimetro(self):\r\n",
    "        return self.Lado * 4\r\n",
    "    \r\n",
    "class Triangulo(Figura):\r\n",
    "    def __init__(self,Lado,Altura,Base):\r\n",
    "        self.Lado = Lado\r\n",
    "        self.Altura = Altura\r\n",
    "        self.Base = Base\r\n",
    "        \r\n",
    "    def Area(self):\r\n",
    "        return self.Lado+self.Lado+self.Lado\r\n",
    "    \r\n",
    "    def Perimetro(self):\r\n",
    "        return self.Base*self.Altura/2\r\n",
    "      \r\n",
    "C1 = Cuadrado(5)\r\n",
    "T1 = Triangulo(5,10,2)\r\n",
    "\r\n",
    "print(C1.Area(),C1.Perimetro())\r\n",
    "print()\r\n",
    "print(T1.Area(),T1.Perimetro())"
   ]
  }
 ],
 "metadata": {
  "kernelspec": {
   "display_name": "Python 3.9.4 64-bit",
   "name": "python394jvsc74a57bd0c98da534115960e035e2aa7355047e8b9c3769d6ff83dbf41532c205836af0c5"
  },
  "language_info": {
   "codemirror_mode": {
    "name": "ipython",
    "version": 3
   },
   "file_extension": ".py",
   "mimetype": "text/x-python",
   "name": "python",
   "nbconvert_exporter": "python",
   "pygments_lexer": "ipython3",
   "version": "3.9.4"
  },
  "orig_nbformat": 2
 },
 "nbformat": 4,
 "nbformat_minor": 2
}